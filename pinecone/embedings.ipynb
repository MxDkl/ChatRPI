{
 "cells": [
  {
   "cell_type": "code",
   "execution_count": null,
   "metadata": {},
   "outputs": [],
   "source": [
    "import os\n",
    "from dotenv import load_dotenv\n",
    "\n",
    "load_dotenv()"
   ]
  },
  {
   "cell_type": "code",
   "execution_count": null,
   "metadata": {},
   "outputs": [],
   "source": [
    "import pinecone\n",
    "\n",
    "pinecone.init(\n",
    "    api_key=os.getenv('PINECONEKEY'),\n",
    "    environment=\"us-east1-gcp\"\n",
    ")\n",
    "\n",
    "index = pinecone.Index(\"chatrpi\")"
   ]
  },
  {
   "cell_type": "code",
   "execution_count": null,
   "metadata": {},
   "outputs": [],
   "source": [
    "import openai\n",
    "\n",
    "openai.api_key = os.getenv('OPENAIKEY')"
   ]
  },
  {
   "cell_type": "code",
   "execution_count": null,
   "metadata": {},
   "outputs": [],
   "source": [
    "MODEL = \"text-embedding-ada-002\"\n",
    "\n",
    "res = openai.Embedding.create(\n",
    "    input=[\n",
    "        \"Sample document text goes here\",\n",
    "        \"there will be several phrases in each batch\"\n",
    "    ], engine=MODEL\n",
    ")\n",
    "res['data']"
   ]
  },
  {
   "cell_type": "code",
   "execution_count": null,
   "metadata": {},
   "outputs": [],
   "source": [
    "# length of the embedding\n",
    "len(res['data'][0]['embedding'])"
   ]
  },
  {
   "cell_type": "code",
   "execution_count": null,
   "metadata": {},
   "outputs": [],
   "source": [
    "path = \"/home/player1/Desktop/RPI/ChatRPI/text/\"\n",
    "files = os.listdir(path)\n",
    "\n",
    "dataset = []\n",
    "# iterate over all the files in directory. add every 3-4 paragraphs to the dataset.\n",
    "# if the file is too big, it will be split into multiple entries\n",
    "# if the file is too small, add the whole file to the dataset\n",
    "for file in files:\n",
    "    with open(path + file, 'r') as f:\n",
    "        text = f.read()\n",
    "        paragraphs = text.split(\"\\n\\n\")\n",
    "        for i in range(len(paragraphs)):\n",
    "            paragraphs[i] = paragraphs[i].replace(\"\\n\", \" \")\n",
    "            paragraphs[i] = paragraphs[i].replace(\"\\t\", \" \")\n",
    "            paragraphs[i] = paragraphs[i].strip(\" \")\n",
    "        # remove empty paragraphs\n",
    "        paragraphs = [p for p in paragraphs if len(p) > 20]\n",
    "        if len(paragraphs) > 4:\n",
    "            for i in range(0, len(paragraphs), 4):\n",
    "                dataset.append(\" \".join(paragraphs[max(0,i-1):i+4]))\n",
    "        elif len(paragraphs) > 0:\n",
    "            dataset.append(text)\n",
    "    \n"
   ]
  },
  {
   "cell_type": "code",
   "execution_count": null,
   "metadata": {},
   "outputs": [],
   "source": [
    "# create embedding for each data using openai api ada 002 model\n",
    "# and add to pinecone index\n",
    "from tqdm.auto import tqdm\n",
    "import time\n",
    "\n",
    "count = 0  # we'll use the count to create unique IDs\n",
    "batch_size = 32  # process everything in batches of 32\n",
    "for i in tqdm(range(0, len(dataset), batch_size)):\n",
    "    # set end position of batch\n",
    "    i_end = min(i+batch_size, len(dataset))\n",
    "    # get batch of lines and IDs\n",
    "    #lines_batch = new_dataset text from (i to i+batch size)\n",
    "    lines_batch = [record for record in dataset[i:i_end]]\n",
    "    ids_batch = [str(n) for n in range(i, i_end)]\n",
    "    # create embeddings\n",
    "    res = openai.Embedding.create(input=lines_batch, engine=MODEL)\n",
    "    try:\n",
    "        embeds = [record['embedding'] for record in res['data']]\n",
    "    except:\n",
    "        print(\"invalid request error\")\n",
    "    # prep metadata and upsert batch\n",
    "    meta = [{'text': line} for line in lines_batch]\n",
    "    to_upsert = zip(ids_batch, embeds, meta)\n",
    "    # upsert to Pinecone\n",
    "    index.upsert(vectors=list(to_upsert))\n",
    "    time.sleep(1)"
   ]
  }
 ],
 "metadata": {
  "kernelspec": {
   "display_name": "Python 3",
   "language": "python",
   "name": "python3"
  },
  "language_info": {
   "codemirror_mode": {
    "name": "ipython",
    "version": 3
   },
   "file_extension": ".py",
   "mimetype": "text/x-python",
   "name": "python",
   "nbconvert_exporter": "python",
   "pygments_lexer": "ipython3",
   "version": "3.10.9"
  },
  "orig_nbformat": 4,
  "vscode": {
   "interpreter": {
    "hash": "e7370f93d1d0cde622a1f8e1c04877d8463912d04d973331ad4851f04de6915a"
   }
  }
 },
 "nbformat": 4,
 "nbformat_minor": 2
}
