{
 "cells": [
  {
   "cell_type": "code",
   "execution_count": null,
   "metadata": {},
   "outputs": [],
   "source": [
    "from datasets import load_dataset\n",
    "\n",
    "dataset = load_dataset(\"text\", data_dir=\"/home/player1/Desktop/RPI/ChatRPI/text/\", split=\"train\")"
   ]
  },
  {
   "cell_type": "code",
   "execution_count": null,
   "metadata": {},
   "outputs": [],
   "source": [
    "import os\n",
    "from dotenv import load_dotenv\n",
    "\n",
    "load_dotenv()"
   ]
  },
  {
   "cell_type": "code",
   "execution_count": null,
   "metadata": {},
   "outputs": [],
   "source": [
    "import pinecone\n",
    "\n",
    "pinecone.init(\n",
    "    api_key=os.getenv('PINECONEKEY'),\n",
    "    environment=\"us-west1-gcp\"\n",
    ")\n",
    "\n",
    "index = pinecone.Index(\"chat-rpi\")"
   ]
  },
  {
   "cell_type": "code",
   "execution_count": null,
   "metadata": {},
   "outputs": [],
   "source": [
    "import openai\n",
    "\n",
    "openai.api_key = os.getenv('OPENAIKEY')"
   ]
  },
  {
   "cell_type": "code",
   "execution_count": null,
   "metadata": {},
   "outputs": [],
   "source": [
    "MODEL = \"text-embedding-ada-002\"\n",
    "\n",
    "res = openai.Embedding.create(\n",
    "    input=[\n",
    "        \"Sample document text goes here\",\n",
    "        \"there will be several phrases in each batch\"\n",
    "    ], engine=MODEL\n",
    ")\n",
    "res['data']"
   ]
  },
  {
   "cell_type": "code",
   "execution_count": null,
   "metadata": {},
   "outputs": [],
   "source": [
    "# length of the embedding\n",
    "len(res['data'][0]['embedding'])"
   ]
  },
  {
   "cell_type": "code",
   "execution_count": null,
   "metadata": {},
   "outputs": [],
   "source": [
    "# make a new dataset where each index is one sentence from the original dataset\n",
    "\n",
    "def make_dataset(dataset):\n",
    "    new_dataset = []\n",
    "    for i in range(len(dataset)):\n",
    "        # split the text into sentences\n",
    "        sentences = dataset[i][\"text\"].split(\".\")\n",
    "        for sentence in sentences:\n",
    "            new_dataset.append({\"text\": sentence})\n",
    "    return new_dataset\n",
    "\n",
    "new_dataset = make_dataset(dataset)\n"
   ]
  },
  {
   "cell_type": "code",
   "execution_count": null,
   "metadata": {},
   "outputs": [],
   "source": [
    "\n",
    "\n",
    "# remove all empty data in dataset\n",
    "new_dataset = list(filter(lambda x: x[\"text\"] != \"\", new_dataset))\n",
    "\n",
    "# remove all data with less than 7 words\n",
    "new_dataset = list(filter(lambda x: len(x[\"text\"].split(\" \")) > 7, new_dataset))\n",
    "\n",
    "len(new_dataset)\n",
    "\n"
   ]
  },
  {
   "cell_type": "code",
   "execution_count": null,
   "metadata": {},
   "outputs": [],
   "source": [
    "# create embedding for each data using openai api ada 002 model\n",
    "# and add to pinecone index\n",
    "from tqdm.auto import tqdm\n",
    "\n",
    "count = 0  # we'll use the count to create unique IDs\n",
    "batch_size = 32  # process everything in batches of 32\n",
    "for i in tqdm(range(0, len(new_dataset), batch_size)):\n",
    "    # set end position of batch\n",
    "    i_end = min(i+batch_size, len(new_dataset))\n",
    "    # get batch of lines and IDs\n",
    "    #lines_batch = new_dataset text from (i to i+batch size)\n",
    "    lines_batch = [record['text'] for record in new_dataset[i:i_end]]\n",
    "    ids_batch = [str(n) for n in range(i, i_end)]\n",
    "    # create embeddings\n",
    "    res = openai.Embedding.create(input=lines_batch, engine=MODEL)\n",
    "    try:\n",
    "        embeds = [record['embedding'] for record in res['data']]\n",
    "    except:\n",
    "        print(\"invalid request error\")\n",
    "    # prep metadata and upsert batch\n",
    "    meta = [{'text': line} for line in lines_batch]\n",
    "    to_upsert = zip(ids_batch, embeds, meta)\n",
    "    # upsert to Pinecone\n",
    "    index.upsert(vectors=list(to_upsert))"
   ]
  }
 ],
 "metadata": {
  "kernelspec": {
   "display_name": "Python 3",
   "language": "python",
   "name": "python3"
  },
  "language_info": {
   "codemirror_mode": {
    "name": "ipython",
    "version": 3
   },
   "file_extension": ".py",
   "mimetype": "text/x-python",
   "name": "python",
   "nbconvert_exporter": "python",
   "pygments_lexer": "ipython3",
   "version": "3.10.9"
  },
  "orig_nbformat": 4,
  "vscode": {
   "interpreter": {
    "hash": "e7370f93d1d0cde622a1f8e1c04877d8463912d04d973331ad4851f04de6915a"
   }
  }
 },
 "nbformat": 4,
 "nbformat_minor": 2
}
