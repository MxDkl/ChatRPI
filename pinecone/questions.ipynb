{
 "cells": [
  {
   "cell_type": "code",
   "execution_count": 14,
   "metadata": {},
   "outputs": [
    {
     "data": {
      "text/plain": [
       "True"
      ]
     },
     "execution_count": 14,
     "metadata": {},
     "output_type": "execute_result"
    }
   ],
   "source": [
    "import os\n",
    "from dotenv import load_dotenv\n",
    "\n",
    "load_dotenv()"
   ]
  },
  {
   "cell_type": "code",
   "execution_count": 15,
   "metadata": {},
   "outputs": [],
   "source": [
    "import pinecone\n",
    "\n",
    "pinecone.init(\n",
    "    api_key=os.getenv('PINECONEKEY'),\n",
    "    environment=\"us-west1-gcp\"\n",
    ")\n",
    "\n",
    "index = pinecone.Index(\"chat-rpi\")"
   ]
  },
  {
   "cell_type": "code",
   "execution_count": 16,
   "metadata": {},
   "outputs": [],
   "source": [
    "import openai\n",
    "\n",
    "openai.api_key = os.getenv('OPENAIKEY')\n"
   ]
  },
  {
   "cell_type": "code",
   "execution_count": 17,
   "metadata": {},
   "outputs": [],
   "source": [
    "MODEL = \"text-embedding-ada-002\""
   ]
  },
  {
   "cell_type": "code",
   "execution_count": 18,
   "metadata": {},
   "outputs": [],
   "source": [
    "query = \"What is the first computer science course?\"\n",
    "\n",
    "xq = openai.Embedding.create(input=query, engine=MODEL)['data'][0]['embedding']"
   ]
  },
  {
   "cell_type": "code",
   "execution_count": 19,
   "metadata": {},
   "outputs": [
    {
     "data": {
      "text/plain": [
       "{'matches': [{'id': '915',\n",
       "              'metadata': {'text': '                                                                                                                                      '\n",
       "                                   'Computer Science, '},\n",
       "              'score': 0.82965,\n",
       "              'sparseValues': {},\n",
       "              'values': []},\n",
       "             {'id': '102',\n",
       "              'metadata': {'text': '                                                                                                                                      '\n",
       "                                   'Computer Science, '},\n",
       "              'score': 0.829381049,\n",
       "              'sparseValues': {},\n",
       "              'values': []},\n",
       "             {'id': '903',\n",
       "              'metadata': {'text': ' degrees in Computer Science from the '\n",
       "                                   'Massachusetts Institute of Technology '\n",
       "                                   '(MIT) under the supervision of Sir Tim '\n",
       "                                   'Berners-Lee, the inventor of the World '\n",
       "                                   'Wide Web'},\n",
       "              'score': 0.823132753,\n",
       "              'sparseValues': {},\n",
       "              'values': []},\n",
       "             {'id': '141',\n",
       "              'metadata': {'text': ' in computer science from the University '\n",
       "                                   'of Rochester'},\n",
       "              'score': 0.820088506,\n",
       "              'sparseValues': {},\n",
       "              'values': []},\n",
       "             {'id': '2086',\n",
       "              'metadata': {'text': ' in computer science from the University '\n",
       "                                   'of Rochester'},\n",
       "              'score': 0.82007426,\n",
       "              'sparseValues': {},\n",
       "              'values': []}],\n",
       " 'namespace': ''}"
      ]
     },
     "execution_count": 19,
     "metadata": {},
     "output_type": "execute_result"
    }
   ],
   "source": [
    "res = index.query([xq], top_k=5, include_metadata=True)\n",
    "res"
   ]
  },
  {
   "cell_type": "code",
   "execution_count": null,
   "metadata": {},
   "outputs": [],
   "source": []
  }
 ],
 "metadata": {
  "kernelspec": {
   "display_name": "Python 3",
   "language": "python",
   "name": "python3"
  },
  "language_info": {
   "codemirror_mode": {
    "name": "ipython",
    "version": 3
   },
   "file_extension": ".py",
   "mimetype": "text/x-python",
   "name": "python",
   "nbconvert_exporter": "python",
   "pygments_lexer": "ipython3",
   "version": "3.10.9"
  },
  "orig_nbformat": 4,
  "vscode": {
   "interpreter": {
    "hash": "e7370f93d1d0cde622a1f8e1c04877d8463912d04d973331ad4851f04de6915a"
   }
  }
 },
 "nbformat": 4,
 "nbformat_minor": 2
}
